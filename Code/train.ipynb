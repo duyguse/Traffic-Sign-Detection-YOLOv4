{
 "cells": [
  {
   "cell_type": "code",
   "execution_count": 0,
   "metadata": {
    "colab": {
     "base_uri": "https://localhost:8080/",
     "height": 122
    },
    "colab_type": "code",
    "executionInfo": {
     "elapsed": 22877,
     "status": "ok",
     "timestamp": 1589372870960,
     "user": {
      "displayName": "ETA Kaggle",
      "photoUrl": "",
      "userId": "16314910698452963170"
     },
     "user_tz": -180
    },
    "id": "EtEH03WgRfP4",
    "outputId": "d827c038-46fd-4514-8155-65b6bc444595"
   },
   "outputs": [
    {
     "name": "stdout",
     "output_type": "stream",
     "text": [
      "Go to this URL in a browser: https://accounts.google.com/o/oauth2/auth?client_id=947318989803-6bn6qk8qdgf4n4g3pfee6491hc0brc4i.apps.googleusercontent.com&redirect_uri=urn%3aietf%3awg%3aoauth%3a2.0%3aoob&response_type=code&scope=email%20https%3a%2f%2fwww.googleapis.com%2fauth%2fdocs.test%20https%3a%2f%2fwww.googleapis.com%2fauth%2fdrive%20https%3a%2f%2fwww.googleapis.com%2fauth%2fdrive.photos.readonly%20https%3a%2f%2fwww.googleapis.com%2fauth%2fpeopleapi.readonly\n",
      "\n",
      "Enter your authorization code:\n",
      "··········\n",
      "Mounted at /content/gdrive\n"
     ]
    }
   ],
   "source": [
    "from google.colab import drive\n",
    "drive.mount('/content/gdrive')"
   ]
  },
  {
   "cell_type": "code",
   "execution_count": 0,
   "metadata": {
    "colab": {},
    "colab_type": "code",
    "id": "68w2OxMBRieJ"
   },
   "outputs": [],
   "source": [
    "#Make Sure it is connected to GPU\n",
    "!cp -r /content/gdrive/My\\ Drive/darknetAlex.zip .\n",
    "!unzip darknetAlex.zip \n",
    "!chmod u+x darknet/darknet\n",
    "%cd darknet"
   ]
  },
  {
   "cell_type": "code",
   "execution_count": 0,
   "metadata": {
    "colab": {},
    "colab_type": "code",
    "id": "Xk6iGljW9efF"
   },
   "outputs": [],
   "source": [
    "!ln -s /content/gdrive/My\\ Drive/TrafficSign TrafficSign"
   ]
  },
  {
   "cell_type": "code",
   "execution_count": 0,
   "metadata": {
    "colab": {},
    "colab_type": "code",
    "id": "LdQWwTN16BKW"
   },
   "outputs": [],
   "source": [
    "!./darknet detector -map train \"/content/gdrive/My Drive/TrafficSign/8class/sign_aug.data\" \"/content/gdrive/My Drive/TrafficSign/8class/yolov4-custom-8.cfg\" \"/content/gdrive/My Drive/TrafficSign/8class/backup_aug/yolov4-custom-8_last.weights\" -dont_show "
   ]
  },
  {
   "cell_type": "code",
   "execution_count": 0,
   "metadata": {
    "colab": {},
    "colab_type": "code",
    "id": "P_N4a5BU_2WA"
   },
   "outputs": [],
   "source": [
    "\n",
    "!./darknet detector test \"/content/gdrive/My Drive/TrafficSign/8class/sign_aug.data\" \"/content/gdrive/My Drive/TrafficSign/8class/yolov4-custom-8.cfg\" \"/content/gdrive/My Drive/TrafficSign/8class/backup_aug/yolov4-custom-8_last.weights\" -dont_show \"00054.jpg\""
   ]
  }
 ],
 "metadata": {
  "accelerator": "GPU",
  "colab": {
   "authorship_tag": "ABX9TyPWxurlb06jZIFmIPoFQnZx",
   "collapsed_sections": [],
   "machine_shape": "hm",
   "name": "darknet.ipynb",
   "provenance": []
  },
  "kernelspec": {
   "display_name": "Python 3",
   "language": "python",
   "name": "python3"
  },
  "language_info": {
   "codemirror_mode": {
    "name": "ipython",
    "version": 3
   },
   "file_extension": ".py",
   "mimetype": "text/x-python",
   "name": "python",
   "nbconvert_exporter": "python",
   "pygments_lexer": "ipython3",
   "version": "3.7.6"
  }
 },
 "nbformat": 4,
 "nbformat_minor": 1
}
